{
  "nbformat": 4,
  "nbformat_minor": 0,
  "metadata": {
    "colab": {
      "name": "Simple_yolov2.ipynb",
      "version": "0.3.2",
      "provenance": [],
      "collapsed_sections": [],
      "include_colab_link": true
    },
    "kernelspec": {
      "name": "python3",
      "display_name": "Python 3"
    },
    "accelerator": "GPU"
  },
  "cells": [
    {
      "cell_type": "markdown",
      "metadata": {
        "id": "view-in-github",
        "colab_type": "text"
      },
      "source": [
        "<a href=\"https://colab.research.google.com/github/soyoung9306/3min-keras/blob/master/Simple_yolov2.ipynb\" target=\"_parent\"><img src=\"https://colab.research.google.com/assets/colab-badge.svg\" alt=\"Open In Colab\"/></a>"
      ]
    },
    {
      "metadata": {
        "id": "tDKglD0vavVy",
        "colab_type": "text"
      },
      "cell_type": "markdown",
      "source": [
        "##FDDB Dataset 다운로드"
      ]
    },
    {
      "metadata": {
        "id": "eb-68VCNaw_D",
        "colab_type": "code",
        "outputId": "506508ef-b2e2-4fb5-83b3-b0d2d0a15cdd",
        "colab": {
          "base_uri": "https://localhost:8080/",
          "height": 35
        }
      },
      "cell_type": "code",
      "source": [
        "!mkdir data"
      ],
      "execution_count": 0,
      "outputs": [
        {
          "output_type": "stream",
          "text": [
            "mkdir: cannot create directory ‘data’: File exists\n"
          ],
          "name": "stdout"
        }
      ]
    },
    {
      "metadata": {
        "id": "XR5vGjhqa5pZ",
        "colab_type": "code",
        "outputId": "77db8369-541f-45e2-f280-2d4c60d103dd",
        "colab": {
          "base_uri": "https://localhost:8080/",
          "height": 287
        }
      },
      "cell_type": "code",
      "source": [
        "!wget \"https://drive.google.com/uc?authuser=0&id=1qV4YSzvvTQ7rSi3iS2swkbA56QO-bbs8&export=download\" -O fddb.zip"
      ],
      "execution_count": 0,
      "outputs": [
        {
          "output_type": "stream",
          "text": [
            "--2019-03-14 04:22:32--  https://drive.google.com/uc?authuser=0&id=1qV4YSzvvTQ7rSi3iS2swkbA56QO-bbs8&export=download\n",
            "Resolving drive.google.com (drive.google.com)... 209.85.147.138, 209.85.147.101, 209.85.147.113, ...\n",
            "Connecting to drive.google.com (drive.google.com)|209.85.147.138|:443... connected.\n",
            "HTTP request sent, awaiting response... 302 Moved Temporarily\n",
            "Location: https://drive.google.com/uc?id=1qV4YSzvvTQ7rSi3iS2swkbA56QO-bbs8&export=download [following]\n",
            "--2019-03-14 04:22:32--  https://drive.google.com/uc?id=1qV4YSzvvTQ7rSi3iS2swkbA56QO-bbs8&export=download\n",
            "Reusing existing connection to drive.google.com:443.\n",
            "HTTP request sent, awaiting response... 200 OK\n",
            "Length: unspecified [text/html]\n",
            "Saving to: ‘fddb.zip’\n",
            "\n",
            "fddb.zip                [ <=>                ]   3.17K  --.-KB/s    in 0s      \n",
            "\n",
            "2019-03-14 04:23:02 (33.6 MB/s) - ‘fddb.zip’ saved [3244]\n",
            "\n"
          ],
          "name": "stdout"
        }
      ]
    },
    {
      "metadata": {
        "id": "kmGHJatwa73w",
        "colab_type": "code",
        "outputId": "484446ac-9fbc-4102-ab7d-9daf82c34499",
        "colab": {
          "base_uri": "https://localhost:8080/",
          "height": 71
        }
      },
      "cell_type": "code",
      "source": [
        "!ls"
      ],
      "execution_count": 0,
      "outputs": [
        {
          "output_type": "stream",
          "text": [
            "checkpoint  fddb.zip\t       retina.ckpt.data-00000-of-00001\tsample_data\n",
            "data\t    pretrained_models  retina.ckpt.index\t\ttrain.graph\n",
            "eval.graph  resnet.gar.gz      retina.ckpt.meta\n"
          ],
          "name": "stdout"
        }
      ]
    },
    {
      "metadata": {
        "id": "WPNlP1F_bBL7",
        "colab_type": "code",
        "outputId": "b011afeb-a5df-49d3-a029-9ee2e5bafa4e",
        "colab": {
          "base_uri": "https://localhost:8080/",
          "height": 161
        }
      },
      "cell_type": "code",
      "source": [
        "!apt-get install unzip"
      ],
      "execution_count": 0,
      "outputs": [
        {
          "output_type": "stream",
          "text": [
            "Reading package lists... Done\n",
            "Building dependency tree       \n",
            "Reading state information... Done\n",
            "unzip is already the newest version (6.0-21ubuntu1).\n",
            "The following package was automatically installed and is no longer required:\n",
            "  libnvidia-common-410\n",
            "Use 'apt autoremove' to remove it.\n",
            "0 upgraded, 0 newly installed, 0 to remove and 10 not upgraded.\n"
          ],
          "name": "stdout"
        }
      ]
    },
    {
      "metadata": {
        "id": "yl7MNRyfbDAg",
        "colab_type": "code",
        "outputId": "0f57b246-9299-4977-da30-d3bf874a3693",
        "colab": {
          "base_uri": "https://localhost:8080/",
          "height": 143
        }
      },
      "cell_type": "code",
      "source": [
        "!unzip -q fddb.zip"
      ],
      "execution_count": 0,
      "outputs": [
        {
          "output_type": "stream",
          "text": [
            "[fddb.zip]\n",
            "  End-of-central-directory signature not found.  Either this file is not\n",
            "  a zipfile, or it constitutes one disk of a multi-part archive.  In the\n",
            "  latter case the central directory and zipfile comment will be found on\n",
            "  the last disk(s) of this archive.\n",
            "unzip:  cannot find zipfile directory in one of fddb.zip or\n",
            "        fddb.zip.zip, and cannot find fddb.zip.ZIP, period.\n"
          ],
          "name": "stdout"
        }
      ]
    },
    {
      "metadata": {
        "id": "bxM5wrfbbGjv",
        "colab_type": "code",
        "outputId": "edd1241b-10e2-40d8-9dff-4ca1d450c829",
        "colab": {
          "base_uri": "https://localhost:8080/",
          "height": 35
        }
      },
      "cell_type": "code",
      "source": [
        "!mv face data/FDDB"
      ],
      "execution_count": 0,
      "outputs": [
        {
          "output_type": "stream",
          "text": [
            "mv: cannot stat 'face': No such file or directory\n"
          ],
          "name": "stdout"
        }
      ]
    },
    {
      "metadata": {
        "id": "HePqQv2KbK20",
        "colab_type": "code",
        "outputId": "67b95f0b-a3c1-4648-ed65-37bff88f5540",
        "colab": {
          "base_uri": "https://localhost:8080/",
          "height": 35
        }
      },
      "cell_type": "code",
      "source": [
        "!ls data/FDDB"
      ],
      "execution_count": 0,
      "outputs": [
        {
          "output_type": "stream",
          "text": [
            "test  train\n"
          ],
          "name": "stdout"
        }
      ]
    },
    {
      "metadata": {
        "id": "lwn84gn5bNMx",
        "colab_type": "code",
        "outputId": "e14acffb-ed72-4eb0-baea-8c324ecd663d",
        "colab": {
          "base_uri": "https://localhost:8080/",
          "height": 35
        }
      },
      "cell_type": "code",
      "source": [
        "!ls data/FDDB/train"
      ],
      "execution_count": 0,
      "outputs": [
        {
          "output_type": "stream",
          "text": [
            "anchors.json  annotations  classes.json  images\n"
          ],
          "name": "stdout"
        }
      ]
    },
    {
      "metadata": {
        "id": "pmw9D7tmbiWH",
        "colab_type": "text"
      },
      "cell_type": "markdown",
      "source": [
        "## Data Loader for Detection Model\n"
      ]
    },
    {
      "metadata": {
        "id": "tACjbGKSblwA",
        "colab_type": "code",
        "colab": {}
      },
      "cell_type": "code",
      "source": [
        "import os\n",
        "import numpy as np\n",
        "import cv2\n",
        "from cv2 import imread, resize, imwrite\n",
        "import matplotlib.pyplot as plt\n",
        "from matplotlib.pyplot import imshow\n",
        "import glob\n",
        "import json"
      ],
      "execution_count": 0,
      "outputs": []
    },
    {
      "metadata": {
        "id": "_lmch7ymemaR",
        "colab_type": "code",
        "colab": {}
      },
      "cell_type": "code",
      "source": [
        "IM_EXTENSIONS = ['png', 'jpg', 'bmp']\n",
        "\n",
        "def load_json(json_path):\n",
        "    \"\"\"\n",
        "    Load json file\n",
        "    \"\"\"\n",
        "    with open(json_path, 'r') as f:\n",
        "        data = json.load(f)\n",
        "    return data\n",
        "\n",
        "def get_best_anchor(anchors, box_wh):\n",
        "    \"\"\"\n",
        "    Select the best anchor with highest IOU\n",
        "    \"\"\"\n",
        "    box_wh = np.array(box_wh)\n",
        "    best_iou = 0\n",
        "    best_anchor = 0\n",
        "    for k, anchor in enumerate(anchors):\n",
        "        intersect_wh = np.maximum(np.minimum(box_wh, anchor), 0.0)\n",
        "        intersect_area = intersect_wh[0] * intersect_wh[1]\n",
        "        box_area = box_wh[0] * box_wh[1]\n",
        "        anchor_area = anchor[0] * anchor[1]\n",
        "        iou = intersect_area / (box_area + anchor_area - intersect_area)\n",
        "        if iou > best_iou:\n",
        "            best_iou = iou\n",
        "            best_anchor = k\n",
        "    return best_anchor"
      ],
      "execution_count": 0,
      "outputs": []
    },
    {
      "metadata": {
        "id": "wLokh3fsep9y",
        "colab_type": "code",
        "colab": {}
      },
      "cell_type": "code",
      "source": [
        "def read_data(data_dir, image_size, pixels_per_grid=32, no_label=False, ratio=1):\n",
        "    \"\"\"\n",
        "    Load the data and preprocessing for YOLO detector\n",
        "    :param data_dir: str, path to the directory to read. \n",
        "                     It should include class_map, anchors, annotations\n",
        "    :image_size: tuple, image size for resizing images\n",
        "    :pixels_per_gird: int, the actual size of a grid\n",
        "    :no_label: bool, whetehr to load labels\n",
        "    :return: X_set: np.ndarray, shape: (N, H, W, C).\n",
        "             y_set: np.ndarray, shape: (N, g_H, g_W, anchors, 5 + num_classes).\n",
        "    \"\"\"\n",
        "    im_dir = os.path.join(data_dir, 'images')\n",
        "    class_map_path = os.path.join(data_dir, 'classes.json')\n",
        "    anchors_path = os.path.join(data_dir, 'anchors.json')\n",
        "    class_map = load_json(class_map_path)\n",
        "    anchors = load_json(anchors_path)\n",
        "    num_classes = len(class_map)\n",
        "    grid_h, grid_w = [image_size[i] // pixels_per_grid for i in range(2)]\n",
        "    im_paths = []\n",
        "    for ext in IM_EXTENSIONS:\n",
        "        im_paths.extend(glob.glob(os.path.join(im_dir, '*.{}'.format(ext))))\n",
        "    if ratio != 1:\n",
        "      num_img = int(len(im_paths)*ratio)\n",
        "      im_paths = im_paths[:num_img]\n",
        "    anno_dir = os.path.join(data_dir, 'annotations')\n",
        "    images = []\n",
        "    labels = []\n",
        "\n",
        "    for im_path in im_paths:\n",
        "        # load image and resize image\n",
        "        im = imread(im_path)\n",
        "        im = np.array(im, dtype=np.float32)\n",
        "        im_origina_sizes = im.shape[:2]\n",
        "        im = resize(im, (image_size[1], image_size[0]))\n",
        "        if len(im.shape) == 2:\n",
        "            im = np.expand_dims(im, 2)\n",
        "            im = np.concatenate([im, im, im], -1)\n",
        "        images.append(im)\n",
        "\n",
        "        if no_label:\n",
        "            labels.append(0)\n",
        "            continue\n",
        "        # load bboxes and reshape for yolo model\n",
        "        name = os.path.splitext(os.path.basename(im_path))[0]\n",
        "        anno_path = os.path.join(anno_dir, '{}.anno'.format(name))\n",
        "        anno = load_json(anno_path)\n",
        "        label = np.zeros((grid_h, grid_w, len(anchors), 5 + num_classes))\n",
        "        for c_idx, c_name in class_map.items():\n",
        "            if c_name not in anno:\n",
        "                continue\n",
        "            for x_min, y_min, x_max, y_max in anno[c_name]:\n",
        "                oh, ow = im_origina_sizes\n",
        "                # normalize object coordinates and clip the values\n",
        "                x_min, y_min, x_max, y_max = x_min / ow, y_min / oh, x_max / ow, y_max / oh\n",
        "                x_min, y_min, x_max, y_max = np.clip([x_min, y_min, x_max, y_max], 0, 1)\n",
        "                # assign the values to the best anchor\n",
        "                anchor_boxes = np.array(anchors) / np.array([ow, oh])\n",
        "                best_anchor = get_best_anchor(\n",
        "                    anchor_boxes, [x_max - x_min, y_max - y_min])\n",
        "                cx = int(np.floor(0.5 * (x_min + x_max) * grid_w))\n",
        "                cy = int(np.floor(0.5 * (y_min + y_max) * grid_h))\n",
        "                label[cy, cx, best_anchor, 0:4] = [x_min, y_min, x_max, y_max]\n",
        "                label[cy, cx, best_anchor, 4] = 1.0\n",
        "                label[cy, cx, best_anchor, 5 + int(c_idx)] = 1.0\n",
        "        labels.append(label)\n",
        "\n",
        "    X_set = np.array(images, dtype=np.float32)\n",
        "    y_set = np.array(labels, dtype=np.float32)\n",
        "\n",
        "    return X_set, y_set"
      ],
      "execution_count": 0,
      "outputs": []
    },
    {
      "metadata": {
        "id": "Alu1BNNFeuJ_",
        "colab_type": "code",
        "colab": {}
      },
      "cell_type": "code",
      "source": [
        "class DataSet(object):\n",
        "\n",
        "    def __init__(self, images, labels=None):\n",
        "        \"\"\"\n",
        "        Construct a new DataSet object.\n",
        "        :param images: np.ndarray, shape: (N, H, W, C)\n",
        "        :param labels: np.ndarray, shape: (N, g_H, g_W, anchors, 5 + num_classes).\n",
        "        \"\"\"\n",
        "        if labels is not None:\n",
        "            assert images.shape[0] == labels.shape[0],\\\n",
        "                ('Number of examples mismatch, between images and labels')\n",
        "        self._num_examples = images.shape[0]\n",
        "        self._images = images\n",
        "        self._labels = labels  # NOTE: this can be None, if not given.\n",
        "        # image/label indices(can be permuted)\n",
        "        self._indices = np.arange(self._num_examples, dtype=np.uint)\n",
        "        self._reset()\n",
        "\n",
        "    def _reset(self):\n",
        "        \"\"\"Reset some variables.\"\"\"\n",
        "        self._epochs_completed = 0\n",
        "        self._index_in_epoch = 0\n",
        "\n",
        "    @property\n",
        "    def images(self):\n",
        "        return self._images\n",
        "\n",
        "    @property\n",
        "    def labels(self):\n",
        "        return self._labels\n",
        "\n",
        "    @property\n",
        "    def num_examples(self):\n",
        "        return self._num_examples\n",
        "\n",
        "    def sample_batch(self, batch_size, shuffle=True):\n",
        "        \"\"\"\n",
        "        Return sample examples from this dataset.\n",
        "        :param batch_size: int, size of a sample batch.\n",
        "        :param shuffle: bool, whether to shuffle the whole set while sampling a batch.\n",
        "        :return: batch_images: np.ndarray, shape: (N, H, W, C)\n",
        "                 batch_labels: np.ndarray, shape: (N, g_H, g_W, anchors, 5 + num_classes)\n",
        "        \"\"\"\n",
        "\n",
        "        if shuffle:\n",
        "            indices = np.random.choice(self._num_examples, batch_size)\n",
        "        else:\n",
        "            indices = np.arange(batch_size)\n",
        "        batch_images = self._images[indices]\n",
        "        if self._labels is not None:\n",
        "            batch_labels = self._labels[indices]\n",
        "        else:\n",
        "            batch_labels = None\n",
        "        return batch_images, batch_labels\n",
        "\n",
        "    def next_batch(self, batch_size, shuffle=True):\n",
        "        \"\"\"\n",
        "        Return the next 'batch_size' examples from this dataset.\n",
        "        :param batch_size: int, size of a single batch.\n",
        "        :param shuffle: bool, whether to shuffle the whole set while sampling a batch.\n",
        "        :return: batch_images: np.ndarray, shape: (N, H, W, C)\n",
        "                 batch_labels: np.ndarray, shape: (N, g_H, g_W, anchors, 5 + num_classes)\n",
        "        \"\"\"\n",
        "\n",
        "        start_index = self._index_in_epoch\n",
        "\n",
        "        # Shuffle the dataset, for the first epoch\n",
        "        if self._epochs_completed == 0 and start_index == 0 and shuffle:\n",
        "            np.random.shuffle(self._indices)\n",
        "\n",
        "        # Go to the next epoch, if current index goes beyond the total number\n",
        "        # of examples\n",
        "        if start_index + batch_size > self._num_examples:\n",
        "            # Increment the number of epochs completed\n",
        "            self._epochs_completed += 1\n",
        "            # Get the rest examples in this epoch\n",
        "            rest_num_examples = self._num_examples - start_index\n",
        "            indices_rest_part = self._indices[start_index:self._num_examples]\n",
        "\n",
        "            # Shuffle the dataset, after finishing a single epoch\n",
        "            if shuffle:\n",
        "                np.random.shuffle(self._indices)\n",
        "\n",
        "            # Start the next epoch\n",
        "            start_index = 0\n",
        "            self._index_in_epoch = batch_size - rest_num_examples\n",
        "            end_index = self._index_in_epoch\n",
        "            indices_new_part = self._indices[start_index:end_index]\n",
        "\n",
        "            images_rest_part = self._images[indices_rest_part]\n",
        "            images_new_part = self._images[indices_new_part]\n",
        "            batch_images = np.concatenate(\n",
        "                (images_rest_part, images_new_part), axis=0)\n",
        "            if self._labels is not None:\n",
        "                labels_rest_part = self._labels[indices_rest_part]\n",
        "                labels_new_part = self._labels[indices_new_part]\n",
        "                batch_labels = np.concatenate(\n",
        "                    (labels_rest_part, labels_new_part), axis=0)\n",
        "            else:\n",
        "                batch_labels = None\n",
        "        else:\n",
        "            self._index_in_epoch += batch_size\n",
        "            end_index = self._index_in_epoch\n",
        "            indices = self._indices[start_index:end_index]\n",
        "            batch_images = self._images[indices]\n",
        "            if self._labels is not None:\n",
        "                batch_labels = self._labels[indices]\n",
        "            else:\n",
        "                batch_labels = None\n",
        "\n",
        "        return batch_images, batch_labels"
      ],
      "execution_count": 0,
      "outputs": []
    },
    {
      "metadata": {
        "id": "8WiNVeOmex5d",
        "colab_type": "code",
        "colab": {}
      },
      "cell_type": "code",
      "source": [
        "# set paths\n",
        "root_dir = os.path.join('data/FDDB/') #FIXME\n",
        "trainval_dir = os.path.join(root_dir, 'train')\n",
        "test_dir = os.path.join(root_dir, 'test')\n",
        "anchors = load_json(os.path.join(trainval_dir, 'anchors.json'))\n",
        "class_map = load_json(os.path.join(trainval_dir, 'classes.json'))\n",
        "\n",
        "# set hyperparameters for data\n",
        "IM_SIZE = (416, 416)\n",
        "NUM_CLASSES = 1\n",
        "VALID_RATIO = 0.1"
      ],
      "execution_count": 0,
      "outputs": []
    },
    {
      "metadata": {
        "id": "bUa3kuYRe4Ye",
        "colab_type": "code",
        "colab": {}
      },
      "cell_type": "code",
      "source": [
        "X_trainval, y_trainval = read_data(trainval_dir, IM_SIZE, ratio=0.5)\n",
        "trainval_size = X_trainval.shape[0]\n",
        "val_size = int(trainval_size * VALID_RATIO)\n",
        "val_set = DataSet(X_trainval[:val_size], y_trainval[:val_size])\n",
        "train_set = DataSet(X_trainval[val_size:], y_trainval[val_size:])"
      ],
      "execution_count": 0,
      "outputs": []
    },
    {
      "metadata": {
        "id": "CzW2SxR5fKvN",
        "colab_type": "code",
        "colab": {}
      },
      "cell_type": "code",
      "source": [
        "X_test, y_test = read_data(test_dir, IM_SIZE)\n",
        "test_set = DataSet(X_test, y_test)"
      ],
      "execution_count": 0,
      "outputs": []
    },
    {
      "metadata": {
        "id": "jsemxGLz0Hm5",
        "colab_type": "text"
      },
      "cell_type": "markdown",
      "source": [
        "## Construct Network"
      ]
    },
    {
      "metadata": {
        "id": "iPquZ1lu0J32",
        "colab_type": "code",
        "colab": {}
      },
      "cell_type": "code",
      "source": [
        "import tensorflow as tf"
      ],
      "execution_count": 0,
      "outputs": []
    },
    {
      "metadata": {
        "id": "x2swBuDFC5yY",
        "colab_type": "code",
        "outputId": "cb1a0d68-f844-42d1-d382-8aa40346dcf6",
        "colab": {
          "base_uri": "https://localhost:8080/",
          "height": 35
        }
      },
      "cell_type": "code",
      "source": [
        "device_name = tf.test.gpu_device_name()\n",
        "print('Device name: {}'.format(device_name))\n",
        "\n",
        "assert device_name == '/device:GPU:0'"
      ],
      "execution_count": 0,
      "outputs": [
        {
          "output_type": "stream",
          "text": [
            "Device name: /device:GPU:0\n"
          ],
          "name": "stdout"
        }
      ]
    },
    {
      "metadata": {
        "id": "aVibEagA0gPi",
        "colab_type": "code",
        "colab": {}
      },
      "cell_type": "code",
      "source": [
        "def conv_layer(x, filters, kernel_size, strides, padding='SAME', use_bias=True, **kwargs):\n",
        "    weights_stddev = kwargs.pop('weights_stddev', 0.01)\n",
        "    return tf.layers.conv2d(\n",
        "        x,            \n",
        "        filters,\n",
        "        kernel_size, \n",
        "        strides, \n",
        "        padding, \n",
        "        kernel_initializer=tf.random_normal_initializer(stddev=weights_stddev), \n",
        "        use_bias=use_bias\n",
        "    )\n",
        "\n",
        "def batchNormalization(x, is_train):\n",
        "    \"\"\"\n",
        "    Add a new batchNormalization layer.\n",
        "    :param x: tf.Tensor, shape: (N, H, W, C) or (N, D)\n",
        "    :param is_train: tf.placeholder(bool), if True, train mode, else, test mode\n",
        "    :return: tf.Tensor.\n",
        "    \"\"\"\n",
        "    return tf.layers.batch_normalization(\n",
        "        x, \n",
        "        training=is_train, \n",
        "        momentum=0.99, \n",
        "        epsilon=0.001, \n",
        "        center=True, \n",
        "        scale=True\n",
        "    )\n",
        "\n",
        "def conv_bn_relu(x, filters, kernel_size, is_train, strides=(1, 1), padding='SAME', relu=True):\n",
        "    \"\"\"\n",
        "    Add conv + bn + Relu layers.\n",
        "    see conv_layer and batchNormalization function\n",
        "    \"\"\"\n",
        "    conv = conv_layer(x, filters, kernel_size, strides, padding, use_bias=False)\n",
        "    bn = batchNormalization(conv, is_train)\n",
        "    if relu:\n",
        "        return tf.nn.leaky_relu(bn, alpha=0.1)\n",
        "    else:\n",
        "        return bn\n",
        "\n",
        "def max_pool(x, side_l, stride, padding='SAME'):\n",
        "    \"\"\"\n",
        "    Performs max pooling on given input.\n",
        "    :param x: tf.Tensor, shape: (N, H, W, C).\n",
        "    :param side_l: int, the side length of the pooling window for each dimension.\n",
        "    :param stride: int, the stride of the sliding window for each dimension.\n",
        "    :param padding: str, either 'SAME' or 'VALID',\n",
        "                         the type of padding algorithm to use.\n",
        "    :return: tf.Tensor.\n",
        "    \"\"\"\n",
        "    return tf.nn.max_pool(x, ksize=[1, side_l, side_l, 1],\n",
        "                          strides=[1, stride, stride, 1], padding=padding)"
      ],
      "execution_count": 0,
      "outputs": []
    },
    {
      "metadata": {
        "id": "7N3317TG0jW1",
        "colab_type": "code",
        "colab": {}
      },
      "cell_type": "code",
      "source": [
        "input_shape = list(IM_SIZE) + [3]\n",
        "num_classes = NUM_CLASSES\n",
        "grid_size = [x // 32 for x in input_shape[:2]]\n",
        "num_anchors = len(anchors)\n",
        "\n",
        "# Prepare Input\n",
        "X = tf.placeholder(tf.float32, [None] + input_shape)\n",
        "y = tf.placeholder(tf.float32, [None] + grid_size + [num_anchors] + [5 + num_classes])\n",
        "is_train = tf.placeholder(tf.bool)"
      ],
      "execution_count": 0,
      "outputs": []
    },
    {
      "metadata": {
        "id": "rGr1lEok0luD",
        "colab_type": "code",
        "colab": {}
      },
      "cell_type": "code",
      "source": [
        "# init build graph\n",
        "graph = tf.get_default_graph()\n",
        "config = tf.ConfigProto()\n",
        "config.gpu_options.allow_growth = True"
      ],
      "execution_count": 0,
      "outputs": []
    },
    {
      "metadata": {
        "id": "wCYsu33w0oZR",
        "colab_type": "code",
        "outputId": "d88b6f55-65a4-4ba4-baf9-e21ac071b2fa",
        "colab": {
          "base_uri": "https://localhost:8080/",
          "height": 179
        }
      },
      "cell_type": "code",
      "source": [
        "d = dict()\n",
        "\n",
        "#conv1 - batch_norm1 - leaky_relu1 - pool1\n",
        "with tf.variable_scope('layer1'):\n",
        "    d['conv1'] = conv_bn_relu(X, 32, (3, 3), is_train)\n",
        "    d['pool1'] = max_pool(d['conv1'], 2, 2, padding='SAME')\n",
        "# (416, 416, 3) --> (208, 208, 32)\n",
        "\n",
        "#conv2 - batch_norm2 - leaky_relu2 - pool2\n",
        "with tf.variable_scope('layer2'):\n",
        "    d['conv2'] = conv_bn_relu(d['pool1'], 64, (3, 3), is_train)\n",
        "    d['pool2'] = max_pool(d['conv2'], 2, 2, padding='SAME')\n",
        "# (208, 208, 32) --> (104, 104, 64)\n",
        "\n",
        "#conv3 - batch_norm3 - leaky_relu3\n",
        "with tf.variable_scope('layer3'):\n",
        "    d['conv3'] = conv_bn_relu(d['pool2'], 128, (3, 3), is_train)\n",
        "# (104, 104, 64) --> (104, 104, 128)\n",
        "\n",
        "#conv4 - batch_norm4 - leaky_relu4\n",
        "with tf.variable_scope('layer4'):\n",
        "    d['conv4'] = conv_bn_relu(d['conv3'], 64, (1, 1), is_train)\n",
        "# (104, 104, 128) --> (104, 104, 64)\n",
        "\n",
        "#conv5 - batch_norm5 - leaky_relu5 - pool5\n",
        "with tf.variable_scope('layer5'):\n",
        "    d['conv5'] = conv_bn_relu(d['conv4'], 128, (3, 3), is_train)\n",
        "    d['pool5'] = max_pool(d['conv5'], 2, 2, padding='SAME')\n",
        "# (104, 104, 64) --> (52, 52, 128)\n",
        "\n",
        "#conv6 - batch_norm6 - leaky_relu6\n",
        "with tf.variable_scope('layer6'):\n",
        "    d['conv6'] = conv_bn_relu(d['pool5'], 256, (3, 3), is_train)\n",
        "# (52, 52, 128) --> (52, 52, 256)\n",
        "\n",
        "#conv7 - batch_norm7 - leaky_relu7\n",
        "with tf.variable_scope('layer7'):\n",
        "    d['conv7'] = conv_bn_relu(d['conv6'], 128, (1, 1), is_train)\n",
        "# (52, 52, 256) --> (52, 52, 128)\n",
        "\n",
        "#conv8 - batch_norm8 - leaky_relu8 - pool8\n",
        "with tf.variable_scope('layer8'):\n",
        "    d['conv8'] = conv_bn_relu(d['conv7'], 256, (3, 3), is_train)\n",
        "    d['pool8'] = max_pool(d['conv8'], 2, 2, padding='SAME')\n",
        "# (52, 52, 128) --> (26, 26, 256)\n",
        "\n",
        "#conv9 - batch_norm9 - leaky_relu9\n",
        "with tf.variable_scope('layer9'):\n",
        "    d['conv9'] = conv_bn_relu(d['pool8'], 512, (3, 3), is_train)\n",
        "# (26, 26, 256) --> (26, 26, 512)\n",
        "\n",
        "#conv10 - batch_norm10 - leaky_relu10\n",
        "with tf.variable_scope('layer10'):\n",
        "    d['conv10'] = conv_bn_relu(d['conv9'], 256, (1, 1), is_train)\n",
        "# (26, 26, 512) --> (26, 26, 256)\n",
        "\n",
        "#conv11 - batch_norm11 - leaky_relu11\n",
        "with tf.variable_scope('layer11'):\n",
        "    d['conv11'] = conv_bn_relu(d['conv10'], 512, (3, 3), is_train)\n",
        "# (26, 26, 256) --> (26, 26, 512)\n",
        "\n",
        "#conv12 - batch_norm12 - leaky_relu12\n",
        "with tf.variable_scope('layer12'):\n",
        "    d['conv12'] = conv_bn_relu(d['conv11'], 256, (1, 1), is_train)\n",
        "# (26, 26, 512) --> (26, 26, 256)\n",
        "\n",
        "#conv13 - batch_norm13 - leaky_relu13 - pool13\n",
        "with tf.variable_scope('layer13'):\n",
        "    d['conv13'] = conv_bn_relu(d['conv12'], 512, (3, 3), is_train)\n",
        "    d['pool13'] = max_pool(d['conv13'], 2, 2, padding='SAME')\n",
        "# (26, 26, 256) --> (13, 13, 512)\n",
        "\n",
        "#conv14 - batch_norm14 - leaky_relu14\n",
        "with tf.variable_scope('layer14'):\n",
        "    d['conv14'] = conv_bn_relu(d['pool13'], 1024, (3, 3), is_train)\n",
        "# (13, 13, 512) --> (13, 13, 1024)\n",
        "\n",
        "#conv15 - batch_norm15 - leaky_relu15\n",
        "with tf.variable_scope('layer15'):\n",
        "    d['conv15'] = conv_bn_relu(d['conv14'], 512, (1, 1), is_train)\n",
        "# (13, 13, 1024) --> (13, 13, 512)\n",
        "\n",
        "#conv16 - batch_norm16 - leaky_relu16\n",
        "with tf.variable_scope('layer16'):\n",
        "    d['conv16'] = conv_bn_relu(d['conv15'], 1024, (3, 3), is_train)\n",
        "# (13, 13, 512) --> (13, 13, 1024)\n",
        "\n",
        "#conv17 - batch_norm16 - leaky_relu17\n",
        "with tf.variable_scope('layer17'):\n",
        "    d['conv17'] = conv_bn_relu(d['conv16'], 512, (1, 1), is_train)\n",
        "# (13, 13, 1024) --> (13, 13, 512)\n",
        "\n",
        "#conv18 - batch_norm18 - leaky_relu18\n",
        "with tf.variable_scope('layer18'):\n",
        "    d['conv18'] = conv_bn_relu(d['conv17'], 1024, (3, 3), is_train)\n",
        "# (13, 13, 512) --> (13, 13, 1024)\n",
        "\n",
        "#conv19 - batch_norm19 - leaky_relu19\n",
        "with tf.variable_scope('layer19'):\n",
        "    d['conv19'] = conv_bn_relu(d['conv18'], 1024, (3, 3), is_train)\n",
        "# (13, 13, 1024) --> (13, 13, 1024)\n",
        "\n",
        "#Detection Layer\n",
        "#conv20 - batch_norm20 - leaky_relu20\n",
        "with tf.variable_scope('layer20'):\n",
        "    d['conv20'] = conv_bn_relu(d['conv19'], 1024, (3, 3), is_train)\n",
        "# (13, 13, 1024) --> (13, 13, 1024)\n",
        "\n",
        "# concatenate layer20 and layer 13 using space to depth\n",
        "with tf.variable_scope('layer21'):\n",
        "    d['skip_connection'] = conv_bn_relu(d['conv13'], 64, (1, 1), is_train)\n",
        "    d['skip_space_to_depth_x2'] = tf.space_to_depth(\n",
        "        d['skip_connection'], block_size=2)\n",
        "    d['conv21'] = conv_bn_relu(d['conv20'], 1024, (3, 3), is_train)\n",
        "    d['concat21'] = tf.concat(\n",
        "        [d['skip_space_to_depth_x2'], d['conv21']], axis=-1)\n",
        "# (13, 13, 1024) --> (13, 13, 256+1024)\n",
        "\n",
        "#conv22 - batch_norm22 - leaky_relu22\n",
        "with tf.variable_scope('layer22'):\n",
        "    d['conv22'] = conv_bn_relu(d['concat21'], 1024, (3, 3), is_train)\n",
        "# (13, 13, 1280) --> (13, 13, 1024)\n",
        "\n",
        "with tf.variable_scope('output_layer'):\n",
        "    output_channel = num_anchors * (5 + num_classes)\n",
        "    d['logits'] = conv_layer(d['conv22'], output_channel, (1, 1), (1, 1),\n",
        "                            padding='SAME', use_bias=True)\n",
        "    d['pred'] = tf.reshape(\n",
        "        d['logits'], (-1, grid_size[0], grid_size[1], num_anchors, 5 + num_classes))\n",
        "# (13, 13, 1024) --> (13, 13, num_anchors , (5 + num_classes))"
      ],
      "execution_count": 0,
      "outputs": [
        {
          "output_type": "stream",
          "text": [
            "WARNING:tensorflow:From <ipython-input-18-3206e1611ec1>:10: conv2d (from tensorflow.python.layers.convolutional) is deprecated and will be removed in a future version.\n",
            "Instructions for updating:\n",
            "Use keras.layers.conv2d instead.\n",
            "WARNING:tensorflow:From /usr/local/lib/python3.6/dist-packages/tensorflow/python/framework/op_def_library.py:263: colocate_with (from tensorflow.python.framework.ops) is deprecated and will be removed in a future version.\n",
            "Instructions for updating:\n",
            "Colocations handled automatically by placer.\n",
            "WARNING:tensorflow:From <ipython-input-18-3206e1611ec1>:26: batch_normalization (from tensorflow.python.layers.normalization) is deprecated and will be removed in a future version.\n",
            "Instructions for updating:\n",
            "Use keras.layers.batch_normalization instead.\n"
          ],
          "name": "stdout"
        }
      ]
    },
    {
      "metadata": {
        "id": "Ro0r6ROU0rLI",
        "colab_type": "code",
        "colab": {}
      },
      "cell_type": "code",
      "source": [
        "logits = d['logits']\n",
        "pred = d['pred']"
      ],
      "execution_count": 0,
      "outputs": []
    },
    {
      "metadata": {
        "id": "j8efrXG00xL-",
        "colab_type": "text"
      },
      "cell_type": "markdown",
      "source": [
        "## Build Loss"
      ]
    },
    {
      "metadata": {
        "id": "VWh27zWQ0yDd",
        "colab_type": "code",
        "colab": {}
      },
      "cell_type": "code",
      "source": [
        "loss_weights = [5, 5, 5, 0.5, 1.0] #xy, wh, conf, no_conf, class_probs \n",
        "\n",
        "grid_h, grid_w = grid_size\n",
        "grid_wh = np.reshape([grid_w, grid_h], [1, 1, 1, 1, 2]).astype(np.float32)\n",
        "cxcy = np.transpose([np.tile(np.arange(grid_w), grid_h), \n",
        "                     np.repeat(np.arange(grid_h), grid_h)])\n",
        "cxcy = np.reshape(cxcy, (1, grid_h, grid_w, 1, 2))\n",
        "\n",
        "txty, twth = pred[..., 0:2], pred[..., 2:4]\n",
        "confidence = tf.sigmoid(pred[..., 4:5])\n",
        "class_probs = tf.nn.softmax(pred[..., 5:], axis=-1)\\\n",
        "            if num_classes > 1 else tf.sigmoid(pred[..., 5:])\n",
        "bxby = tf.sigmoid(txty) + cxcy\n",
        "pwph = np.reshape(anchors, (1, 1, 1, num_anchors, 2)) / 32\n",
        "bwbh = tf.exp(twth) * pwph\n",
        "\n",
        "# calculating for prediction\n",
        "nxny, nwnh = bxby / grid_wh, bwbh / grid_wh\n",
        "nx1ny1, nx2ny2 = nxny - 0.5 * nwnh, nxny + 0.5 * nwnh\n",
        "pred_y = tf.concat((nx1ny1, nx2ny2, confidence, class_probs), axis=-1)\n",
        "\n",
        "# calculating IoU for metric\n",
        "num_objects = tf.reduce_sum(y[..., 4:5], axis=[1, 2, 3, 4])\n",
        "max_nx1ny1 = tf.maximum(y[..., 0:2], nx1ny1)\n",
        "min_nx2ny2 = tf.minimum(y[..., 2:4], nx2ny2)\n",
        "intersect_wh = tf.maximum(min_nx2ny2 - max_nx1ny1, 0.0)\n",
        "intersect_area = tf.reduce_prod(intersect_wh, axis=-1)\n",
        "intersect_area = tf.where(\n",
        "    tf.equal(intersect_area, 0.0), tf.zeros_like(intersect_area), intersect_area)\n",
        "gt_box_area = tf.reduce_prod(y[..., 2:4] - y[..., 0:2], axis=-1)\n",
        "box_area = tf.reduce_prod(nx2ny2 - nx1ny1, axis=-1)\n",
        "iou = tf.truediv(intersect_area, (gt_box_area + box_area - intersect_area))\n",
        "\n",
        "gt_bxby = 0.5 * (y[..., 0:2] + y[..., 2:4]) * grid_wh\n",
        "gt_bwbh = (y[..., 2:4] - y[..., 0:2]) * grid_wh\n",
        "\n",
        "resp_mask = y[..., 4:5]\n",
        "no_resp_mask = 1.0 - resp_mask\n",
        "#gt_confidence = resp_mask * tf.expand_dims(iou, axis=-1)\n",
        "gt_confidence = resp_mask\n",
        "gt_class_probs = y[..., 5:]\n",
        "\n",
        "loss_bxby = loss_weights[0] * resp_mask * tf.square(gt_bxby - bxby)\n",
        "loss_bwbh = loss_weights[1] * resp_mask * tf.square(tf.sqrt(gt_bwbh) - tf.sqrt(bwbh))\n",
        "loss_resp_conf = loss_weights[2] * resp_mask * tf.square(gt_confidence - confidence)\n",
        "loss_no_resp_conf = loss_weights[3] * no_resp_mask * tf.square(gt_confidence - confidence)\n",
        "loss_class_probs = loss_weights[4] * resp_mask * tf.square(gt_class_probs - class_probs)\n",
        "\n",
        "merged_loss = tf.concat((\n",
        "                        loss_bxby,\n",
        "                        loss_bwbh,\n",
        "                        loss_resp_conf,\n",
        "                        loss_no_resp_conf,\n",
        "                        loss_class_probs\n",
        "                        ),\n",
        "                        axis=-1)\n",
        "total_loss = tf.reduce_sum(merged_loss, axis=-1)\n",
        "total_loss = tf.reduce_mean(total_loss)"
      ],
      "execution_count": 0,
      "outputs": []
    },
    {
      "metadata": {
        "id": "KZvK0r0704Ky",
        "colab_type": "text"
      },
      "cell_type": "markdown",
      "source": [
        "## Training Session"
      ]
    },
    {
      "metadata": {
        "id": "CvNSDWYY05Zp",
        "colab_type": "code",
        "colab": {}
      },
      "cell_type": "code",
      "source": [
        "def nms(boxes, conf_thres=0.2, iou_thres=0.5):\n",
        "    x1 = boxes[..., 0]\n",
        "    y1 = boxes[..., 1]\n",
        "    x2 = boxes[..., 2]\n",
        "    y2 = boxes[..., 3]\n",
        "    areas = (x2 - x1) * (y2 - y1)\n",
        "    scores = boxes[..., 4]\n",
        "\n",
        "    keep = []\n",
        "    order = scores.argsort()[::-1]\n",
        "\n",
        "    while order.size > 0:\n",
        "        i = order[0]\n",
        "        keep.append(i)\n",
        "        xx1 = np.maximum(x1[i], x1[order[1:]])\n",
        "        yy1 = np.maximum(y1[i], y1[order[1:]])\n",
        "        xx2 = np.minimum(x2[i], x2[order[1:]])\n",
        "        yy2 = np.minimum(y2[i], y2[order[1:]])\n",
        "\n",
        "        w = np.maximum(0.0, xx2 - xx1)\n",
        "        h = np.maximum(0.0, yy2 - yy1)\n",
        "        inter = w * h\n",
        "        ovr = inter / (areas[i] + areas[order[1:]] - inter)\n",
        "\n",
        "        inds = np.where(ovr <= iou_thres)[0]\n",
        "        order = order[inds + 1]\n",
        "\n",
        "    nms_box = []\n",
        "    for idx in range(len(boxes)):\n",
        "        if idx in keep and boxes[idx, 4] > conf_thres:\n",
        "            nms_box.append(boxes[idx])\n",
        "        else:\n",
        "            nms_box.append(np.zeros(boxes.shape[-1]))\n",
        "    boxes = np.array(nms_box)\n",
        "    return boxes\n",
        "\n",
        "def convert_boxes(input_y):\n",
        "    is_batch = len(input_y.shape) == 5\n",
        "    if not is_batch:\n",
        "        input_y = np.expand_dims(input_y, 0)\n",
        "    boxes = np.reshape(input_y, (input_y.shape[0], -1, input_y.shape[-1]))\n",
        "    if is_batch:\n",
        "        return np.array(boxes)\n",
        "    else:\n",
        "        return boxes[0]\n",
        "\n",
        "def predict_nms_boxes(input_y, conf_thres=0.2, iou_thres=0.5):\n",
        "    is_batch = len(input_y.shape) == 5\n",
        "    if not is_batch:\n",
        "        input_y = np.expand_dims(input_y, 0)\n",
        "    boxes = np.reshape(input_y, (input_y.shape[0], -1, input_y.shape[-1]))\n",
        "    nms_boxes = []\n",
        "    for box in boxes:\n",
        "        nms_box = nms(box, conf_thres, iou_thres)\n",
        "        nms_boxes.append(nms_box)\n",
        "    if is_batch:\n",
        "        return np.array(nms_boxes)\n",
        "    else:\n",
        "        return nms_boxes[0]\n",
        "\n",
        "def cal_recall(gt_bboxes, bboxes, iou_thres=0.5):\n",
        "    p = 0\n",
        "    tp = 0\n",
        "    for idx, (gt, bbox) in enumerate(zip(gt_bboxes, bboxes)):\n",
        "        gt = gt[np.nonzero(np.any(gt > 0, axis=1))]\n",
        "        bbox = bbox[np.nonzero(np.any(bbox > 0, axis=1))]\n",
        "        p += len(gt)\n",
        "        if bbox.size == 0:\n",
        "            continue\n",
        "        iou = _cal_overlap(gt, bbox)\n",
        "        predicted_class = np.argmax(bbox[...,5:], axis=-1)\n",
        "        for g, area in zip(gt, iou):\n",
        "            gt_c = np.argmax(g[5:])\n",
        "            idx = np.argmax(area)\n",
        "            if np.max(area) > iou_thres and predicted_class[idx] == gt_c:\n",
        "                tp += 1\n",
        "    return tp / p\n",
        "\n",
        "def _cal_overlap(a, b):\n",
        "    area = (b[:, 2] - b[:, 0]) * (b[:, 3] - b[:, 1])\n",
        "\n",
        "    iw = np.minimum(np.expand_dims(a[:, 2], axis=1), b[:, 2]) - \\\n",
        "        np.maximum(np.expand_dims(a[:, 0], axis=1), b[:, 0])\n",
        "    ih = np.minimum(np.expand_dims(a[:, 3], axis=1), b[:, 3]) - \\\n",
        "        np.maximum(np.expand_dims(a[:, 1], axis=1), b[:, 1])\n",
        "\n",
        "    iw = np.maximum(iw, 0)\n",
        "    ih = np.maximum(ih, 0)\n",
        "    intersection = iw * ih\n",
        "\n",
        "    ua = np.expand_dims((a[:, 2] - a[:, 0]) *\n",
        "                        (a[:, 3] - a[:, 1]), axis=1) + area - intersection\n",
        "\n",
        "    ua = np.maximum(ua, np.finfo(float).eps)\n",
        "\n",
        "    return intersection / ua\n"
      ],
      "execution_count": 0,
      "outputs": []
    },
    {
      "metadata": {
        "id": "_ijAMsAM1Idu",
        "colab_type": "code",
        "colab": {}
      },
      "cell_type": "code",
      "source": [
        "def score(y_true, y_pred, **kwargs):\n",
        "    \"\"\"Compute Recall for a given predicted bboxes\"\"\"\n",
        "    nms_flag = kwargs.pop('nms_flag', True)\n",
        "    if nms_flag:\n",
        "        bboxes = predict_nms_boxes(y_pred)\n",
        "    else:\n",
        "        bboxes = convert_boxes(y_pred)\n",
        "    gt_bboxes = convert_boxes(y_true)\n",
        "    score = cal_recall(gt_bboxes, bboxes)\n",
        "    return score\n",
        "\n",
        "def predict(sess, dataset, **kwargs):\n",
        "    batch_size = kwargs.pop('batch_size', 16)\n",
        "    pred_size = dataset.num_examples\n",
        "    num_steps = pred_size // batch_size\n",
        "    flag = int(bool(pred_size % batch_size))\n",
        "    # Start prediction loop\n",
        "    _y_pred = []\n",
        "    for i in range(num_steps + flag):\n",
        "        if i == num_steps and flag:\n",
        "            _batch_size = pred_size - num_steps * batch_size\n",
        "        else:\n",
        "            _batch_size = batch_size\n",
        "        X_true, _ = dataset.next_batch(_batch_size, shuffle=False)\n",
        "\n",
        "        # Compute predictions\n",
        "        y_pred = sess.run(pred_y, feed_dict={\n",
        "                          X: X_true, is_train: False})\n",
        "\n",
        "        _y_pred.append(y_pred)\n",
        "    _y_pred = np.concatenate(_y_pred, axis=0)\n",
        "    return _y_pred"
      ],
      "execution_count": 0,
      "outputs": []
    },
    {
      "metadata": {
        "id": "7VHw1ETZ1L14",
        "colab_type": "code",
        "colab": {}
      },
      "cell_type": "code",
      "source": [
        "sess = tf.Session(graph=graph, config=config)\n",
        "saver = tf.train.Saver()"
      ],
      "execution_count": 0,
      "outputs": []
    },
    {
      "metadata": {
        "id": "z2vFA2T51Odu",
        "colab_type": "code",
        "colab": {}
      },
      "cell_type": "code",
      "source": [
        "# Set hyperparameters for training\n",
        "batch_size = 2\n",
        "num_epochs = 5\n",
        "learning_rate = 1e-5\n",
        "eps = 1e-3\n",
        "num_eval = 128"
      ],
      "execution_count": 0,
      "outputs": []
    },
    {
      "metadata": {
        "id": "yL9ULLJU1P-D",
        "colab_type": "code",
        "outputId": "51e79289-051e-40f9-9dbf-84cf5f8f7853",
        "colab": {
          "base_uri": "https://localhost:8080/",
          "height": 71
        }
      },
      "cell_type": "code",
      "source": [
        "extra_update_ops = tf.get_collection(tf.GraphKeys.UPDATE_OPS)\n",
        "update_vars = tf.trainable_variables()\n",
        "with tf.control_dependencies(extra_update_ops):\n",
        "    train_op = tf.train.AdamOptimizer(learning_rate=learning_rate).\\\n",
        "                minimize(total_loss, var_list=update_vars)"
      ],
      "execution_count": 0,
      "outputs": [
        {
          "output_type": "stream",
          "text": [
            "WARNING:tensorflow:From /usr/local/lib/python3.6/dist-packages/tensorflow/python/ops/math_ops.py:3066: to_int32 (from tensorflow.python.ops.math_ops) is deprecated and will be removed in a future version.\n",
            "Instructions for updating:\n",
            "Use tf.cast instead.\n"
          ],
          "name": "stdout"
        }
      ]
    },
    {
      "metadata": {
        "id": "_Ks0uetq1Rqj",
        "colab_type": "code",
        "colab": {}
      },
      "cell_type": "code",
      "source": [
        "sess.run(tf.global_variables_initializer())"
      ],
      "execution_count": 0,
      "outputs": []
    },
    {
      "metadata": {
        "id": "yv8JQJmE1UUd",
        "colab_type": "code",
        "colab": {}
      },
      "cell_type": "code",
      "source": [
        "train_size = train_set.num_examples\n",
        "num_steps_per_epoch = train_size // batch_size\n",
        "num_steps = num_epochs * num_steps_per_epoch"
      ],
      "execution_count": 0,
      "outputs": []
    },
    {
      "metadata": {
        "id": "Dr2PB03q1ZFn",
        "colab_type": "code",
        "outputId": "e4b85f41-85b3-44e3-ae5b-366890b90f17",
        "colab": {
          "base_uri": "https://localhost:8080/",
          "height": 431
        }
      },
      "cell_type": "code",
      "source": [
        "curr_epoch = 1\n",
        "best_score = 0\n",
        "curr_score = 0\n",
        "# Start training loop\n",
        "for i in range(num_steps):\n",
        "    X_true, y_true = train_set.next_batch(batch_size, shuffle=True)\n",
        "    _, loss, y_pred = sess.run([train_op, total_loss, pred_y],\n",
        "                              feed_dict={X:X_true, y: y_true, is_train: True})\n",
        "    if (i+1) % num_eval == 0:\n",
        "        step_score = score(y_true, y_pred)\n",
        "        eval_y_pred = predict(sess, val_set)\n",
        "        eval_score = score(val_set.labels, eval_y_pred)\n",
        "        print('[epoch {}]\\tloss: {:.6f} |Train score: {:.6f} |Eval score: {:.6f}'\n",
        "      .format(curr_epoch, loss, step_score, eval_score))\n",
        "        curr_score = eval_score\n",
        "\n",
        "    if curr_score > best_score + eps:\n",
        "        best_score = curr_score\n",
        "        saver.save(sess, './yolov2.ckpt')\n",
        "        \n",
        "    if (i+1) % num_steps_per_epoch == 0:\n",
        "        curr_epoch += 1"
      ],
      "execution_count": 0,
      "outputs": [
        {
          "output_type": "stream",
          "text": [
            "[epoch 1]\tloss: 0.087635 |Train score: 1.000000 |Eval score: 0.670782\n",
            "[epoch 1]\tloss: 0.058776 |Train score: 0.400000 |Eval score: 0.724280\n",
            "[epoch 1]\tloss: 0.047020 |Train score: 0.714286 |Eval score: 0.711934\n",
            "[epoch 1]\tloss: 0.042550 |Train score: 0.750000 |Eval score: 0.201646\n",
            "[epoch 2]\tloss: 0.024227 |Train score: 0.500000 |Eval score: 0.436214\n",
            "[epoch 2]\tloss: 0.024470 |Train score: 0.800000 |Eval score: 0.534979\n",
            "[epoch 2]\tloss: 0.018939 |Train score: 0.750000 |Eval score: 0.563786\n",
            "[epoch 2]\tloss: 0.012623 |Train score: 1.000000 |Eval score: 0.613169\n",
            "[epoch 2]\tloss: 0.009954 |Train score: 1.000000 |Eval score: 0.629630\n",
            "[epoch 3]\tloss: 0.013793 |Train score: 0.666667 |Eval score: 0.617284\n",
            "[epoch 3]\tloss: 0.015397 |Train score: 0.750000 |Eval score: 0.666667\n",
            "[epoch 3]\tloss: 0.012011 |Train score: 0.750000 |Eval score: 0.637860\n",
            "[epoch 3]\tloss: 0.012439 |Train score: 1.000000 |Eval score: 0.637860\n",
            "[epoch 4]\tloss: 0.004614 |Train score: 1.000000 |Eval score: 0.679012\n",
            "[epoch 4]\tloss: 0.007836 |Train score: 1.000000 |Eval score: 0.658436\n",
            "[epoch 4]\tloss: 0.008027 |Train score: 1.000000 |Eval score: 0.674897\n",
            "[epoch 4]\tloss: 0.015093 |Train score: 0.666667 |Eval score: 0.683128\n",
            "[epoch 4]\tloss: 0.003382 |Train score: 1.000000 |Eval score: 0.674897\n",
            "[epoch 5]\tloss: 0.004704 |Train score: 1.000000 |Eval score: 0.699588\n",
            "[epoch 5]\tloss: 0.011099 |Train score: 0.833333 |Eval score: 0.662551\n",
            "[epoch 5]\tloss: 0.005389 |Train score: 1.000000 |Eval score: 0.674897\n",
            "[epoch 5]\tloss: 0.003826 |Train score: 1.000000 |Eval score: 0.740741\n",
            "[epoch 5]\tloss: 0.004075 |Train score: 1.000000 |Eval score: 0.724280\n"
          ],
          "name": "stdout"
        }
      ]
    },
    {
      "metadata": {
        "id": "u82AuC0Z1fB9",
        "colab_type": "text"
      },
      "cell_type": "markdown",
      "source": [
        "## Test image and draw bboxes"
      ]
    },
    {
      "metadata": {
        "id": "49BksJJy1gyg",
        "colab_type": "code",
        "colab": {}
      },
      "cell_type": "code",
      "source": [
        "COLORS = [(100, 72, 247),\n",
        " (232, 237, 157),\n",
        " (45, 241, 42),\n",
        " (72, 251, 220),\n",
        " (115, 61, 201),\n",
        " (38, 253, 214),\n",
        " (233, 113, 18),\n",
        " (201, 141, 151),\n",
        " (57, 199, 175),\n",
        " (155, 90, 108),\n",
        " (130, 223, 66),\n",
        " (40, 211, 140)]\n",
        "\n",
        "def draw_pred_boxes(image, pred_boxes, class_map, text=True, score=False):\n",
        "    im_h, im_w = image.shape[:2]\n",
        "    output = image.copy()\n",
        "    for box in pred_boxes:\n",
        "        overlay = output.copy()\n",
        "\n",
        "        class_idx = np.argmax(box[5:])\n",
        "        color = COLORS[class_idx]\n",
        "        line_width, alpha = (2, 0.8)\n",
        "        x_min, x_max = [int(x * im_w) for x in [box[0], box[2]]]\n",
        "        y_min, y_max = [int(x * im_h) for x in [box[1], box[3]]]\n",
        "        cv2.rectangle(overlay, (x_min, y_min),\n",
        "                      (x_max, y_max), color, line_width)\n",
        "        output = cv2.addWeighted(overlay, alpha, output, 1 - alpha, 0)\n",
        "\n",
        "        if text:\n",
        "            p_text = str(round(np.max(box[5:]), 3)) if score else class_map[str(class_idx)]\n",
        "            y_offset = -6\n",
        "            text_size = 0.6\n",
        "            text_line_width = 1\n",
        "            output = cv2.putText(output, p_text, (x_min + 4, y_min + y_offset),\n",
        "                                 cv2.FONT_HERSHEY_DUPLEX, text_size, color, text_line_width)\n",
        "    return output"
      ],
      "execution_count": 0,
      "outputs": []
    },
    {
      "metadata": {
        "id": "Uk3jAixi1yrG",
        "colab_type": "code",
        "outputId": "64334c16-70ef-48ec-8661-982135bbdf1b",
        "colab": {
          "base_uri": "https://localhost:8080/",
          "height": 35
        }
      },
      "cell_type": "code",
      "source": [
        "saver.restore(sess, './yolov2.ckpt')"
      ],
      "execution_count": 0,
      "outputs": [
        {
          "output_type": "stream",
          "text": [
            "INFO:tensorflow:Restoring parameters from ./yolov2.ckpt\n"
          ],
          "name": "stdout"
        }
      ]
    },
    {
      "metadata": {
        "id": "-JUAsKvT17Dj",
        "colab_type": "code",
        "outputId": "d2d69f28-7823-4b6a-ca74-4838053d8887",
        "colab": {
          "base_uri": "https://localhost:8080/",
          "height": 35
        }
      },
      "cell_type": "code",
      "source": [
        "test_y_pred = predict(sess, test_set)\n",
        "test_score = score(test_set.labels, test_y_pred)\n",
        "\n",
        "print('Test performance: {}'.format(test_score))"
      ],
      "execution_count": 0,
      "outputs": [
        {
          "output_type": "stream",
          "text": [
            "Test performance: 0.7667560321715817\n"
          ],
          "name": "stdout"
        }
      ]
    },
    {
      "metadata": {
        "id": "DO96Tqw-188L",
        "colab_type": "code",
        "colab": {}
      },
      "cell_type": "code",
      "source": [
        "r_idx = np.random.choice(test_set.num_examples, 1)\n",
        "test_images = test_set.images[r_idx]\n",
        "test_pred_y = sess.run(pred_y, feed_dict={X: test_images, is_train: False})"
      ],
      "execution_count": 0,
      "outputs": []
    },
    {
      "metadata": {
        "id": "QhZemny-1_JE",
        "colab_type": "code",
        "colab": {}
      },
      "cell_type": "code",
      "source": [
        "bboxes = predict_nms_boxes(test_pred_y[0], conf_thres=0.5, iou_thres=0.5)\n",
        "bboxes = bboxes[np.nonzero(np.any(bboxes > 0, axis=1))]\n",
        "boxed_img = draw_pred_boxes(test_images[0], bboxes, class_map)"
      ],
      "execution_count": 0,
      "outputs": []
    },
    {
      "metadata": {
        "id": "Szx_CLal2A_i",
        "colab_type": "code",
        "outputId": "69167efb-6658-4d55-b328-e25c17b38387",
        "colab": {
          "base_uri": "https://localhost:8080/",
          "height": 369
        }
      },
      "cell_type": "code",
      "source": [
        "plt.axis(\"off\")\n",
        "imshow(cv2.cvtColor(boxed_img, cv2.COLOR_BGR2RGB)/255)"
      ],
      "execution_count": 0,
      "outputs": [
        {
          "output_type": "execute_result",
          "data": {
            "text/plain": [
              "<matplotlib.image.AxesImage at 0x7ff5eee93f60>"
            ]
          },
          "metadata": {
            "tags": []
          },
          "execution_count": 43
        },
        {
          "output_type": "display_data",
          "data": {
            "image/png": "[encoded data removed]",
            "text/plain": [
              "<Figure size 576x396 with 1 Axes>"
            ]
          },
          "metadata": {
            "tags": []
          }
        }
      ]
    },
    {
      "metadata": {
        "id": "zLTdJN9g2DIR",
        "colab_type": "code",
        "colab": {}
      },
      "cell_type": "code",
      "source": [
        "sess.close()"
      ],
      "execution_count": 0,
      "outputs": []
    },
    {
      "metadata": {
        "id": "4OuR8nuThId_",
        "colab_type": "code",
        "colab": {}
      },
      "cell_type": "code",
      "source": [
        ""
      ],
      "execution_count": 0,
      "outputs": []
    }
  ]
}